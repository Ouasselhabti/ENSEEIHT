{
 "cells": [
  {
   "cell_type": "code",
   "execution_count": 63,
   "metadata": {},
   "outputs": [],
   "source": [
    "import matplotlib.pyplot as plt\n",
    "import mpl_toolkits.mplot3d\n",
    "import numpy as np\n",
    "import scipy.sparse as scps\n",
    "import scipy.sparse.linalg as ssl\n",
    "import math\n",
    "from numpy.linalg import det\n",
    "from mpl_toolkits.mplot3d import Axes3D\n",
    "from scipy.sparse import lil_matrix"
   ]
  },
  {
   "cell_type": "code",
   "execution_count": 64,
   "metadata": {},
   "outputs": [],
   "source": [
    "def maillage(n):\n",
    "#\n",
    "# Une discretisation possible d'une EDP elliptique sur le domaine ]0,1[ x ]0,1[\n",
    "# Le carre [0,1]x[0,1] est maille uniquement avec des triangles; \n",
    "# Les conditions limites sont de type Dirichlet uniquement   => neumann  =[];\n",
    "#\n",
    "# Entrees :\n",
    "# n : nombre de points par cote du care => Npts points de discretisation au\n",
    "# total\n",
    "#\n",
    "# Sorties :\n",
    "# coordinates : matrice a deux colonnes. Chaque ligne contient les \n",
    "# coordonnes 2D d'un des points de la discretisation. Ces sommets seront \n",
    "# identifies a l'indice de la ligne correspondante dans la matrice\n",
    "# coordinates.\n",
    "# elements3 : matrice a trois colonnes. Chaque ligne contient les indices \n",
    "# des sommets d'un element triangle, dans le sens antihoraire. \n",
    "# dirichlet : vecteur colonne des indices des sommets de la frontiere de\n",
    "# Dirichlet.\n",
    "# neumann : matrice a deux colonnes. Chaque ligne contient les indices \n",
    "# des deux sommets d'une arete de la frontiere de Neumann.\n",
    "# (neumann est vide sur cet exemple)\n",
    "#\n",
    "##################################################################################\n",
    "    h=1/(n-1)\n",
    "    npoin       = n*n ; \n",
    "    nelem       = 2*(n-1)*(n-1) ;\n",
    "    coordinates = np.zeros((npoin,2)); \n",
    "    elements3   = (np.zeros((nelem,3))).astype(int) ;\n",
    "    neumann     = [];\n",
    "    dirichlet=(np.zeros((4*n-4,1))).astype(int)\n",
    "    # Coordonnees et connectivites :\n",
    "    e = -1 ; \n",
    "    p = -1 ;\n",
    "    x=np.zeros((n+1,1))\n",
    "    x[n,0]=1.\n",
    "    for l in range (n+1):\n",
    "        x[l,0]=l*h\n",
    "    for j in range (n):\n",
    "            for i in range(n):\n",
    "                p = p + 1  \n",
    "                coordinates[p,0] = x[i,0]  \n",
    "                coordinates[p,1] = x[j,0] \n",
    "                if ((i != n-1) & (j != n-1)):\n",
    "                    p1 = p\n",
    "                    p2 = p1 + 1 \n",
    "                    p3 = p1 + n \n",
    "                    p4 = p2 + n \n",
    "                    e = e + 1 \n",
    "                    elements3[e,0] = p1 \n",
    "                    elements3[e,1] = p2 \n",
    "                    elements3[e,2] = p3 \n",
    "                    e = e + 1\n",
    "                    elements3[e,0] = p4 \n",
    "                    elements3[e,1] = p3 \n",
    "                    elements3[e,2] = p2 \n",
    "    #Liste des sommets de la frontiere de Dirichlet:\n",
    "    p=-1\n",
    "    for j in range(n):\n",
    "        p=p+1\n",
    "        dirichlet[p,0] = j  \n",
    "    for j in range(n*2-1,n*(n-1),n):\n",
    "        p=p+1\n",
    "        dirichlet[p,0] = j \n",
    "    for j in range(n*n-1,n*n-n-1,-1):\n",
    "        p=p+1\n",
    "        dirichlet[p,0] = j \n",
    "    for j in range(n*n-2*n,n-1,-n):\n",
    "        p=p+1\n",
    "        dirichlet[p,0] = j \n",
    "\n",
    "    return coordinates, elements3,dirichlet, neumann"
   ]
  },
  {
   "cell_type": "code",
   "execution_count": 65,
   "metadata": {},
   "outputs": [],
   "source": [
    "def show(coordinates,u):\n",
    "#\n",
    "# Fonction d'affichage de la solution u sur le maillage defini par\n",
    "# elements3, coordinates.\n",
    "#\n",
    "# Entrees:\n",
    "# elements3 : matrice a trois colonnes contenant les elements triangles\n",
    "# de la discretisation, identifies par les indices de leurs trois\n",
    "# sommets.\n",
    "# coordinates : matrice a deux colonnes contenant les coordonnes 2D des\n",
    "# points de la discretisation.\n",
    "# u : vecteur colonne de longueur egale au nombre de lignes de\n",
    "# coordinates contenant les valeurs de la solution a afficher aux\n",
    "# points de la discretisation.\n",
    "#\n",
    "# Sorties : Aucune, mais la fonction doit s'afficher dans une figure.\n",
    "##########################################################################\n",
    "    ax= plt.figure().add_subplot(projection='3d')\n",
    "    ax.plot_trisurf(coordinates[:,0],coordinates[:,1],u,linewidth=0.2,antialiased=True)\n",
    "    plt.show()"
   ]
  },
  {
   "cell_type": "markdown",
   "metadata": {},
   "source": [
    "**Partie I : maillage triangulaire et conditions de Dirichlet**"
   ]
  },
  {
   "cell_type": "code",
   "execution_count": 66,
   "metadata": {},
   "outputs": [],
   "source": [
    "\n",
    "'''\n",
    "def compute_MTA():\n",
    "    # Construction de la matrice de raideur élémentaire MTA relative à un élément triangle\n",
    "    \n",
    "    # Coordonnées des sommets de l'élément triangle dans le plan (x,y)\n",
    "    x = np.array([0, 1, 0])\n",
    "    y = np.array([0, 0, 1])\n",
    "    \n",
    "    # Calcul des gradients des fonctions de base de l'élément triangle\n",
    "    J = np.array([[1, 1, 1], [x[0], x[1], x[2]], [y[0], y[1], y[2]]])\n",
    "    detJ = np.linalg.det(J)\n",
    "    invJ = np.linalg.inv(J)\n",
    "    G = np.matmul(invJ, np.array([[0, 1, 0], [0, 0, 1], [1, 1, 1]]))\n",
    "    \n",
    "    # Calcul de la matrice de raideur élémentaire MTA\n",
    "    MTA = np.matmul(np.transpose(G), np.matmul(np.array([[1, -1, 0], [-1, 1, 0], [0, 0, 0]]), G)) * detJ / 2\n",
    "    \n",
    "    return MTA '''\n",
    "\n",
    "def assemble_A(coordinates, elements3,dirichlet,ud,f):\n",
    "    # Assemblage de la matrice A dans le cas d'un maillage constitué uniquement d'éléments triangles\n",
    "    \n",
    "    n = coordinates.shape[0]\n",
    "    A = lil_matrix((n, n))\n",
    "    b = np.zeros((n, 1))\n",
    "\n",
    "    for e in elements3:\n",
    "        p1, p2, p3 = e\n",
    "        x1, y1 = coordinates[p1]\n",
    "        x2, y2 = coordinates[p2]\n",
    "        x3, y3 = coordinates[p3]\n",
    "        detJ = abs((x2 - x1) * (y3 - y1) - (x3 - x1) * (y2 - y1))\n",
    "        area = detJ / 2\n",
    "        B = 1 / (2 * area) * np.array([[y2 - y3, y3 - y1, y1 - y2], [x3 - x2, x1 - x3, x2 - x1]])\n",
    "        Ke = area * np.dot(B.T, B)\n",
    "        for i, pi in enumerate(e):\n",
    "            for j, pj in enumerate(e):\n",
    "                A[pi, pj] += Ke[i, j]\n",
    "            b[pi] += area * f(coordinates[pi][0],coordinates[pi][1])\n",
    "    for p in dirichlet:\n",
    "        A[p] = 0\n",
    "        A[p, p] = 1\n",
    "        b[p] = ud[coordinates[p]]\n",
    "    A = A.tocsr()                  \n",
    "        #############################################################\n",
    "    return A,b"
   ]
  },
  {
   "cell_type": "code",
   "execution_count": 67,
   "metadata": {},
   "outputs": [],
   "source": [
    "coordinates, elements3,dirichlet, neumann = maillage(10)   \n",
    "f = np.cos(np.linspace(0.,np.pi,100))\n",
    "ud = np.ones((1,100))\n",
    "npoin = len(coordinates)\n",
    "nelem = len(elements3)\n",
    "A = np.zeros((npoin, npoin))\n",
    "    \n",
    "for t in elements3:\n",
    "        grads = np.empty((3,), dtype=object)\n",
    "        p1,p2,p3 = coordinates[t[0]],coordinates[t[1]],coordinates[t[2]]\n",
    "        alpha = (p2[0]-p1[0])*(p3[1]-p1[1]) - (p3[0] - p1[0])*(p2[1]- p1[1])\n",
    "        for i in range(3):\n",
    "            grads[i] = (1/alpha)*np.array([coordinates[t[(i+1)%3]][1]-coordinates[t[(i+2)%3]][1],coordinates[t[(i+2)%3]][0]-coordinates[t[(i+1)%3]][0]])"
   ]
  },
  {
   "cell_type": "code",
   "execution_count": null,
   "metadata": {},
   "outputs": [],
   "source": []
  },
  {
   "cell_type": "markdown",
   "metadata": {},
   "source": [
    "**Partie II : maillage mixte et ajoût des conditions de Neumann**"
   ]
  },
  {
   "cell_type": "code",
   "execution_count": 68,
   "metadata": {},
   "outputs": [],
   "source": [
    "############################# Maillage mixte ################\n",
    "e3=np.array([[1,2,12],[2,3,12],[3,4,14],[4,5,14],[2,15,3],[3,15,4]]).astype(int)\n",
    "e4=np.array([[0,1,12,11],[11,12,13,10],[12,3,14,13],[10,13,8,9],[13,14,7,8],[14,5,6,7]]).astype(int)\n",
    "dds=np.array([2,15,4,6,7,8,9,10,11,0]).astype(int)\n",
    "nns=np.array([[4,5],[5,6],[0,1],[1,2]]).astype(int)\n",
    "ccs=np.array([[0.,0.],[0.33333333333333,0],[0.53333333333333,0.],\n",
    "                      [0.66666666666667,0.33333333333333],[1.,0.47],[1,0.66666666666667],\n",
    "                     [1.,1.],[0.66666666666667,1.],[0.33333333333333,1.], [0.,1.],\n",
    "                     [0.,0.66666666666667],[0.,0.33333333333333],[0.33333333333333,0.33333333333333],\n",
    "                     [0.33333333333333,0.66666666666667],[0.66666666666667,0.66666666666667],[1.,0.]])"
   ]
  },
  {
   "cell_type": "code",
   "execution_count": 69,
   "metadata": {},
   "outputs": [
    {
     "ename": "TypeError",
     "evalue": "'numpy.ndarray' object is not callable",
     "output_type": "error",
     "traceback": [
      "\u001b[0;31m---------------------------------------------------------------------------\u001b[0m",
      "\u001b[0;31mTypeError\u001b[0m                                 Traceback (most recent call last)",
      "Cell \u001b[0;32mIn[69], line 5\u001b[0m\n\u001b[1;32m      3\u001b[0m coordinates, elements3,dirichlet, neumann \u001b[39m=\u001b[39m maillage(n)\n\u001b[1;32m      4\u001b[0m f \u001b[39m=\u001b[39m \u001b[39mlambda\u001b[39;00m x,y : \u001b[39m0\u001b[39m\n\u001b[0;32m----> 5\u001b[0m A,b \u001b[39m=\u001b[39m assemble_A(coordinates,elements3,dirichlet,np\u001b[39m.\u001b[39;49mones(N),f)\n\u001b[1;32m      6\u001b[0m x \u001b[39m=\u001b[39m np\u001b[39m.\u001b[39mlinalg\u001b[39m.\u001b[39msolve(A,b)\n\u001b[1;32m      7\u001b[0m \u001b[39m#print(A)\u001b[39;00m\n\u001b[1;32m      8\u001b[0m \u001b[39m#print(b)\u001b[39;00m\n",
      "Cell \u001b[0;32mIn[66], line 43\u001b[0m, in \u001b[0;36massemble_A\u001b[0;34m(coordinates, elements3, dirichlet, ud, f)\u001b[0m\n\u001b[1;32m     41\u001b[0m     A[p] \u001b[39m=\u001b[39m \u001b[39m0\u001b[39m\n\u001b[1;32m     42\u001b[0m     A[p, p] \u001b[39m=\u001b[39m \u001b[39m1\u001b[39m\n\u001b[0;32m---> 43\u001b[0m     b[p] \u001b[39m=\u001b[39m ud(coordinates[p])\n\u001b[1;32m     44\u001b[0m A \u001b[39m=\u001b[39m A\u001b[39m.\u001b[39mtocsr()                  \n\u001b[1;32m     45\u001b[0m     \u001b[39m#############################################################\u001b[39;00m\n",
      "\u001b[0;31mTypeError\u001b[0m: 'numpy.ndarray' object is not callable"
     ]
    }
   ],
   "source": [
    "n = 15\n",
    "N = n*n\n",
    "coordinates, elements3,dirichlet, neumann = maillage(n)\n",
    "f = lambda x,y : 0\n",
    "A,b = assemble_A(coordinates,elements3,dirichlet,np.ones(N),f)\n",
    "x = np.linalg.solve(A,b)\n",
    "#print(A)\n",
    "#print(b)\n",
    "show(coordinates,x[:,0])"
   ]
  },
  {
   "cell_type": "markdown",
   "metadata": {},
   "source": [
    "**Compléments  :  un nouveau terme dans l'EDP**"
   ]
  },
  {
   "cell_type": "code",
   "execution_count": null,
   "metadata": {},
   "outputs": [],
   "source": []
  },
  {
   "cell_type": "code",
   "execution_count": null,
   "metadata": {},
   "outputs": [],
   "source": []
  }
 ],
 "metadata": {
  "kernelspec": {
   "display_name": "Python 3 (ipykernel)",
   "language": "python",
   "name": "python3"
  },
  "language_info": {
   "codemirror_mode": {
    "name": "ipython",
    "version": 3
   },
   "file_extension": ".py",
   "mimetype": "text/x-python",
   "name": "python",
   "nbconvert_exporter": "python",
   "pygments_lexer": "ipython3",
   "version": "3.10.6"
  },
  "vscode": {
   "interpreter": {
    "hash": "916dbcbb3f70747c44a77c7bcd40155683ae19c65e1c03b4aa3499c5328201f1"
   }
  }
 },
 "nbformat": 4,
 "nbformat_minor": 4
}
