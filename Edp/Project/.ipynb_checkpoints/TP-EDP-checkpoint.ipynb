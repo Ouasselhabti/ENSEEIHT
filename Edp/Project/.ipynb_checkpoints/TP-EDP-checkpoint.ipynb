{
 "cells": [
  {
   "cell_type": "code",
   "execution_count": 14,
   "metadata": {},
   "outputs": [],
   "source": [
    "import matplotlib.pyplot as plt\n",
    "import mpl_toolkits.mplot3d\n",
    "import numpy as np\n",
    "import scipy.sparse as scps\n",
    "import scipy.sparse.linalg as ssl\n",
    "import math\n",
    "from numpy.linalg import det\n",
    "from mpl_toolkits.mplot3d import Axes3D"
   ]
  },
  {
   "cell_type": "code",
   "execution_count": 15,
   "metadata": {},
   "outputs": [],
   "source": [
    "def maillage(n):\n",
    "#\n",
    "# Une discretisation possible d'une EDP elliptique sur le domaine ]0,1[ x ]0,1[\n",
    "# Le carre [0,1]x[0,1] est maille uniquement avec des triangles; \n",
    "# Les conditions limites sont de type Dirichlet uniquement   => neumann  =[];\n",
    "#\n",
    "# Entrees :\n",
    "# n : nombre de points par cote du care => Npts points de discretisation au\n",
    "# total\n",
    "#\n",
    "# Sorties :\n",
    "# coordinates : matrice a deux colonnes. Chaque ligne contient les \n",
    "# coordonnes 2D d'un des points de la discretisation. Ces sommets seront \n",
    "# identifies a l'indice de la ligne correspondante dans la matrice\n",
    "# coordinates.\n",
    "# elements3 : matrice a trois colonnes. Chaque ligne contient les indices \n",
    "# des sommets d'un element triangle, dans le sens antihoraire. \n",
    "# dirichlet : vecteur colonne des indices des sommets de la frontiere de\n",
    "# Dirichlet.\n",
    "# neumann : matrice a deux colonnes. Chaque ligne contient les indices \n",
    "# des deux sommets d'une arete de la frontiere de Neumann.\n",
    "# (neumann est vide sur cet exemple)\n",
    "#\n",
    "##################################################################################\n",
    "    h=1/(n-1)\n",
    "    npoin       = n*n ; \n",
    "    nelem       = 2*(n-1)*(n-1) ;\n",
    "    coordinates = np.zeros((npoin,2)); \n",
    "    elements3   = (np.zeros((nelem,3))).astype(int) ;\n",
    "    neumann     = [];\n",
    "    dirichlet=(np.zeros((4*n-4,1))).astype(int)\n",
    "    # Coordonnees et connectivites :\n",
    "    e = -1 ; \n",
    "    p = -1 ;\n",
    "    x=np.zeros((n+1,1))\n",
    "    x[n,0]=1.\n",
    "    for l in range (n+1):\n",
    "        x[l,0]=l*h\n",
    "    for j in range (n):\n",
    "            for i in range(n):\n",
    "                p = p + 1  \n",
    "                coordinates[p,0] = x[i,0]  \n",
    "                coordinates[p,1] = x[j,0] \n",
    "                if ((i != n-1) & (j != n-1)):\n",
    "                    p1 = p\n",
    "                    p2 = p1 + 1 \n",
    "                    p3 = p1 + n \n",
    "                    p4 = p2 + n \n",
    "                    e = e + 1 \n",
    "                    elements3[e,0] = p1 \n",
    "                    elements3[e,1] = p2 \n",
    "                    elements3[e,2] = p3 \n",
    "                    e = e + 1\n",
    "                    elements3[e,0] = p4 \n",
    "                    elements3[e,1] = p3 \n",
    "                    elements3[e,2] = p2 \n",
    "    #Liste des sommets de la frontiere de Dirichlet:\n",
    "    p=-1\n",
    "    for j in range(n):\n",
    "        p=p+1\n",
    "        dirichlet[p,0] = j  \n",
    "    for j in range(n*2-1,n*(n-1),n):\n",
    "        p=p+1\n",
    "        dirichlet[p,0] = j \n",
    "    for j in range(n*n-1,n*n-n-1,-1):\n",
    "        p=p+1\n",
    "        dirichlet[p,0] = j \n",
    "    for j in range(n*n-2*n,n-1,-n):\n",
    "        p=p+1\n",
    "        dirichlet[p,0] = j \n",
    "\n",
    "    return coordinates, elements3,dirichlet, neumann"
   ]
  },
  {
   "cell_type": "code",
   "execution_count": 16,
   "metadata": {},
   "outputs": [],
   "source": [
    "def show(coordinates,u):\n",
    "#\n",
    "# Fonction d'affichage de la solution u sur le maillage defini par\n",
    "# elements3, coordinates.\n",
    "#\n",
    "# Entrees:\n",
    "# elements3 : matrice a trois colonnes contenant les elements triangles\n",
    "# de la discretisation, identifies par les indices de leurs trois\n",
    "# sommets.\n",
    "# coordinates : matrice a deux colonnes contenant les coordonnes 2D des\n",
    "# points de la discretisation.\n",
    "# u : vecteur colonne de longueur egale au nombre de lignes de\n",
    "# coordinates contenant les valeurs de la solution a afficher aux\n",
    "# points de la discretisation.\n",
    "#\n",
    "# Sorties : Aucune, mais la fonction doit s'afficher dans une figure.\n",
    "##########################################################################\n",
    "    ax= plt.figure().add_subplot(projection='3d')\n",
    "    ax.plot_trisurf(coordinates[:,0],coordinates[:,1],u,linewidth=0.2,antialiased=True)\n",
    "    plt.show()"
   ]
  },
  {
   "cell_type": "markdown",
   "metadata": {},
   "source": [
    "**Partie I : maillage triangulaire et conditions de Dirichlet**"
   ]
  },
  {
   "cell_type": "code",
   "execution_count": 21,
   "metadata": {},
   "outputs": [],
   "source": [
    "\n",
    "'''\n",
    "def compute_MTA():\n",
    "    # Construction de la matrice de raideur élémentaire MTA relative à un élément triangle\n",
    "    \n",
    "    # Coordonnées des sommets de l'élément triangle dans le plan (x,y)\n",
    "    x = np.array([0, 1, 0])\n",
    "    y = np.array([0, 0, 1])\n",
    "    \n",
    "    # Calcul des gradients des fonctions de base de l'élément triangle\n",
    "    J = np.array([[1, 1, 1], [x[0], x[1], x[2]], [y[0], y[1], y[2]]])\n",
    "    detJ = np.linalg.det(J)\n",
    "    invJ = np.linalg.inv(J)\n",
    "    G = np.matmul(invJ, np.array([[0, 1, 0], [0, 0, 1], [1, 1, 1]]))\n",
    "    \n",
    "    # Calcul de la matrice de raideur élémentaire MTA\n",
    "    MTA = np.matmul(np.transpose(G), np.matmul(np.array([[1, -1, 0], [-1, 1, 0], [0, 0, 0]]), G)) * detJ / 2\n",
    "    \n",
    "    return MTA '''\n",
    "\n",
    "def assemble_A(coordinates, elements3,dirichlet,ud,f):\n",
    "    # Assemblage de la matrice A dans le cas d'un maillage constitué uniquement d'éléments triangles\n",
    "    \n",
    "    npoin = len(coordinates)\n",
    "    nelem = len(elements3)\n",
    "    A = np.zeros((npoin,npoin))\n",
    "    b = np.zeros((npoin,1))\n",
    "    MAT = np.zeros((3,3))\n",
    "    for k in range(nelem):\n",
    "        alpha = det([[coordinates[elements3[k,1]][0]-coordinates[elements3[k,0]][0],coordinates[elements3[k,2]][0]-coordinates[elements3[k,0]][0]],[coordinates[elements3[k,1]][1]-coordinates[elements3[k,0]][1],coordinates[elements3[k,2]][1]-coordinates[elements3[k,0]][1]]])\n",
    "        \n",
    "        for i in range(3):\n",
    "            for j in range(3):\n",
    "                if ((i+1)==3):\n",
    "                    grad_i = (1/alpha)*np.array([[coordinates[elements3[k,2]][1]-coordinates[elements3[k,(i+2)%3]][1]],[coordinates[elements3[k,(i+2)%3]][0]-coordinates[elements3[k,(i+1)%3]][0]]])\n",
    "                elif ((i+2)==3):\n",
    "                    grad_i = (1/alpha)*np.array([[coordinates[elements3[k,(i+1)%3]][1]-coordinates[elements3[k,2]][1]],[coordinates[elements3[k,2]][0]-coordinates[elements3[k,(i+1)%3]][0]]])\n",
    "                else :\n",
    "                    grad_i = (1/alpha)*np.array([[coordinates[elements3[k,(i+1)%3]][1]-coordinates[elements3[k,(i+2)%3]][1]],[coordinates[elements3[k,(i+2)%3]][0]-coordinates[elements3[k,(i+1)%3]][0]]])\t\n",
    "                if ((j+1)==3):\n",
    "                    grad_j = (1/alpha)*np.array([[coordinates[elements3[k,2]][1]-coordinates[elements3[k,(j+2)%3]][1]],[coordinates[elements3[k,(j+2)%3]][0]-coordinates[elements3[k,(j+1)%3]][0]]])\n",
    "                elif ((j+2)==3):\n",
    "                    grad_j = (1/alpha)*np.array([[coordinates[elements3[k,(j+1)%3]][1]-coordinates[elements3[k,2]][1]],[coordinates[elements3[k,2]][0]-coordinates[elements3[k,(j+1)%3]][0]]])\n",
    "                else :\n",
    "                    grad_j = (1/alpha)*np.array([[coordinates[elements3[k,(j+1)%3]][1]-coordinates[elements3[k,(j+2)%3]][1]],[coordinates[elements3[k,(j+2)%3]][0]-coordinates[elements3[k,(j+1)%3]][0]]])\t\n",
    "            MAT[i,j] = (alpha/2)*np.dot(grad_i.T,grad_j)\n",
    "\n",
    "        A[elements3[k,0], elements3[k,1]] = A[elements3[k,0], elements3[k,1]] + MAT[0,1];\n",
    "        A[elements3[k,0], elements3[k,2]] = A[elements3[k,0], elements3[k,2]] + MAT[0,2];\n",
    "        A[elements3[k,1], elements3[k,2]] = A[elements3[k,1], elements3[k,2]] + MAT[1,2];\n",
    "   \n",
    "        A[elements3[k,0], elements3[k,0]] = A[elements3[k,0], elements3[k,0]] + MAT[0,0];\n",
    "        A[elements3[k,1], elements3[k,1]] = A[elements3[k,1], elements3[k,1]] + MAT[1,1];\n",
    "        A[elements3[k,2], elements3[k,2]] = A[elements3[k,2], elements3[k,2]] + MAT[2,2];\n",
    "   \n",
    "        A[elements3[k,1], elements3[k,0]] = A[elements3[k,0], elements3[k,1]];\n",
    "        A[elements3[k,2], elements3[k,0]] = A[elements3[k,0], elements3[k,2]];\n",
    "        A[elements3[k,2], elements3[k,1]] = A[elements3[k,1], elements3[k,2]];\n",
    "                    \n",
    "        xg = (coordinates[elements3[k,0]][0] + coordinates[elements3[k,1]][0] + coordinates[elements3[k,2]][0])/3\n",
    "        xg = (coordinates[elements3[k,0]][1] + coordinates[elements3[k,1]][1] + coordinates[elements3[k,2]][1])/3\n",
    "\n",
    "        for i in range(3):\n",
    "            b[elements3[k,i]] = b[elements3[k,i]] + (alpha/6)*f(xg,yg);\n",
    "                    \n",
    "        #############################################################\n",
    "    return A,b"
   ]
  },
  {
   "cell_type": "code",
   "execution_count": 22,
   "metadata": {},
   "outputs": [],
   "source": [
    "coordinates, elements3,dirichlet, neumann = maillage(10)   \n",
    "f = np.cos(np.linspace(0.,np.pi,100))\n",
    "ud = np.ones((1,100))\n",
    "npoin = len(coordinates)\n",
    "nelem = len(elements3)\n",
    "A = np.zeros((npoin, npoin))\n",
    "    \n",
    "for t in elements3:\n",
    "        grads = np.empty((3,), dtype=object)\n",
    "        p1,p2,p3 = coordinates[t[0]],coordinates[t[1]],coordinates[t[2]]\n",
    "        alpha = (p2[0]-p1[0])*(p3[1]-p1[1]) - (p3[0] - p1[0])*(p2[1]- p1[1])\n",
    "        for i in range(3):\n",
    "            grads[i] = (1/alpha)*np.array([coordinates[t[(i+1)%3]][1]-coordinates[t[(i+2)%3]][1],coordinates[t[(i+2)%3]][0]-coordinates[t[(i+1)%3]][0]])"
   ]
  },
  {
   "cell_type": "code",
   "execution_count": null,
   "metadata": {},
   "outputs": [],
   "source": []
  },
  {
   "cell_type": "markdown",
   "metadata": {},
   "source": [
    "**Partie II : maillage mixte et ajoût des conditions de Neumann**"
   ]
  },
  {
   "cell_type": "code",
   "execution_count": 23,
   "metadata": {},
   "outputs": [],
   "source": [
    "############################# Maillage mixte ################\n",
    "e3=np.array([[1,2,12],[2,3,12],[3,4,14],[4,5,14],[2,15,3],[3,15,4]]).astype(int)\n",
    "e4=np.array([[0,1,12,11],[11,12,13,10],[12,3,14,13],[10,13,8,9],[13,14,7,8],[14,5,6,7]]).astype(int)\n",
    "dds=np.array([2,15,4,6,7,8,9,10,11,0]).astype(int)\n",
    "nns=np.array([[4,5],[5,6],[0,1],[1,2]]).astype(int)\n",
    "ccs=np.array([[0.,0.],[0.33333333333333,0],[0.53333333333333,0.],\n",
    "                      [0.66666666666667,0.33333333333333],[1.,0.47],[1,0.66666666666667],\n",
    "                     [1.,1.],[0.66666666666667,1.],[0.33333333333333,1.], [0.,1.],\n",
    "                     [0.,0.66666666666667],[0.,0.33333333333333],[0.33333333333333,0.33333333333333],\n",
    "                     [0.33333333333333,0.66666666666667],[0.66666666666667,0.66666666666667],[1.,0.]])"
   ]
  },
  {
   "cell_type": "code",
   "execution_count": 24,
   "metadata": {},
   "outputs": [
    {
     "ename": "IndexError",
     "evalue": "index 2 is out of bounds for axis 0 with size 2",
     "output_type": "error",
     "traceback": [
      "\u001b[0;31m---------------------------------------------------------------------------\u001b[0m",
      "\u001b[0;31mIndexError\u001b[0m                                Traceback (most recent call last)",
      "Cell \u001b[0;32mIn[24], line 5\u001b[0m\n\u001b[1;32m      3\u001b[0m coordinates, elements3,dirichlet, neumann \u001b[38;5;241m=\u001b[39m maillage(n)\n\u001b[1;32m      4\u001b[0m f \u001b[38;5;241m=\u001b[39m \u001b[38;5;28;01mlambda\u001b[39;00m x,y : \u001b[38;5;241m0\u001b[39m\n\u001b[0;32m----> 5\u001b[0m A,b \u001b[38;5;241m=\u001b[39m \u001b[43massemble_A\u001b[49m\u001b[43m(\u001b[49m\u001b[43mcoordinates\u001b[49m\u001b[43m,\u001b[49m\u001b[43melements3\u001b[49m\u001b[43m,\u001b[49m\u001b[43mdirichlet\u001b[49m\u001b[43m,\u001b[49m\u001b[43mnp\u001b[49m\u001b[38;5;241;43m.\u001b[39;49m\u001b[43mones\u001b[49m\u001b[43m(\u001b[49m\u001b[43mN\u001b[49m\u001b[43m)\u001b[49m\u001b[43m,\u001b[49m\u001b[43mf\u001b[49m\u001b[43m)\u001b[49m\n\u001b[1;32m      6\u001b[0m x \u001b[38;5;241m=\u001b[39m np\u001b[38;5;241m.\u001b[39mlinalg\u001b[38;5;241m.\u001b[39msolve(A,b)\n\u001b[1;32m      7\u001b[0m \u001b[38;5;28mprint\u001b[39m(A)\n",
      "Cell \u001b[0;32mIn[21], line 59\u001b[0m, in \u001b[0;36massemble_A\u001b[0;34m(coordinates, elements3, dirichlet, ud, f)\u001b[0m\n\u001b[1;32m     56\u001b[0m A[elements3[k,\u001b[38;5;241m2\u001b[39m], elements3[k,\u001b[38;5;241m0\u001b[39m]] \u001b[38;5;241m=\u001b[39m A[elements3[k,\u001b[38;5;241m0\u001b[39m], elements3[k,\u001b[38;5;241m2\u001b[39m]];\n\u001b[1;32m     57\u001b[0m A[elements3[k,\u001b[38;5;241m2\u001b[39m], elements3[k,\u001b[38;5;241m1\u001b[39m]] \u001b[38;5;241m=\u001b[39m A[elements3[k,\u001b[38;5;241m1\u001b[39m], elements3[k,\u001b[38;5;241m2\u001b[39m]];\n\u001b[0;32m---> 59\u001b[0m xg \u001b[38;5;241m=\u001b[39m (coordinates[elements3[k,\u001b[38;5;241m0\u001b[39m]][\u001b[38;5;241m0\u001b[39m] \u001b[38;5;241m+\u001b[39m coordinates[elements3[k,\u001b[38;5;241m1\u001b[39m]][\u001b[38;5;241m1\u001b[39m] \u001b[38;5;241m+\u001b[39m \u001b[43mcoordinates\u001b[49m\u001b[43m[\u001b[49m\u001b[43melements3\u001b[49m\u001b[43m[\u001b[49m\u001b[43mk\u001b[49m\u001b[43m,\u001b[49m\u001b[38;5;241;43m2\u001b[39;49m\u001b[43m]\u001b[49m\u001b[43m]\u001b[49m\u001b[43m[\u001b[49m\u001b[38;5;241;43m2\u001b[39;49m\u001b[43m]\u001b[49m)\u001b[38;5;241m/\u001b[39m\u001b[38;5;241m3\u001b[39m\n\u001b[1;32m     60\u001b[0m xg \u001b[38;5;241m=\u001b[39m (coordinates[elements3[k,\u001b[38;5;241m0\u001b[39m]][\u001b[38;5;241m1\u001b[39m] \u001b[38;5;241m+\u001b[39m coordinates[elements3[k,\u001b[38;5;241m1\u001b[39m]][\u001b[38;5;241m1\u001b[39m] \u001b[38;5;241m+\u001b[39m coordinates[elements3[k,\u001b[38;5;241m2\u001b[39m]][\u001b[38;5;241m1\u001b[39m])\u001b[38;5;241m/\u001b[39m\u001b[38;5;241m3\u001b[39m\n\u001b[1;32m     62\u001b[0m \u001b[38;5;28;01mfor\u001b[39;00m i \u001b[38;5;129;01min\u001b[39;00m \u001b[38;5;28mrange\u001b[39m(\u001b[38;5;241m3\u001b[39m):\n",
      "\u001b[0;31mIndexError\u001b[0m: index 2 is out of bounds for axis 0 with size 2"
     ]
    }
   ],
   "source": [
    "n = 15\n",
    "N = n*n\n",
    "coordinates, elements3,dirichlet, neumann = maillage(n)\n",
    "f = lambda x,y : 0\n",
    "A,b = assemble_A(coordinates,elements3,dirichlet,np.ones(N),f)\n",
    "x = np.linalg.solve(A,b)\n",
    "print(A)\n",
    "show(coordinates,x)"
   ]
  },
  {
   "cell_type": "markdown",
   "metadata": {},
   "source": [
    "**Compléments  :  un nouveau terme dans l'EDP**"
   ]
  },
  {
   "cell_type": "code",
   "execution_count": null,
   "metadata": {},
   "outputs": [],
   "source": []
  },
  {
   "cell_type": "code",
   "execution_count": null,
   "metadata": {},
   "outputs": [],
   "source": []
  }
 ],
 "metadata": {
  "kernelspec": {
   "display_name": "Python 3 (ipykernel)",
   "language": "python",
   "name": "python3"
  },
  "language_info": {
   "codemirror_mode": {
    "name": "ipython",
    "version": 3
   },
   "file_extension": ".py",
   "mimetype": "text/x-python",
   "name": "python",
   "nbconvert_exporter": "python",
   "pygments_lexer": "ipython3",
   "version": "3.10.6"
  },
  "vscode": {
   "interpreter": {
    "hash": "916dbcbb3f70747c44a77c7bcd40155683ae19c65e1c03b4aa3499c5328201f1"
   }
  }
 },
 "nbformat": 4,
 "nbformat_minor": 4
}
