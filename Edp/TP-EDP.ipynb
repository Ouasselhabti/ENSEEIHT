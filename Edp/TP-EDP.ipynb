{
 "cells": [
  {
   "cell_type": "code",
   "execution_count": 1,
   "metadata": {},
   "outputs": [
    {
     "ename": "ArgumentError",
     "evalue": "ArgumentError: Package matplotlib not found in current path.\n- Run `import Pkg; Pkg.add(\"matplotlib\")` to install the matplotlib package.",
     "output_type": "error",
     "traceback": [
      "ArgumentError: Package matplotlib not found in current path.\n",
      "- Run `import Pkg; Pkg.add(\"matplotlib\")` to install the matplotlib package.\n",
      "\n",
      "Stacktrace:\n",
      "  [1] macro expansion\n",
      "    @ ./loading.jl:1163 [inlined]\n",
      "  [2] macro expansion\n",
      "    @ ./lock.jl:223 [inlined]\n",
      "  [3] require(into::Module, mod::Symbol)\n",
      "    @ Base ./loading.jl:1144\n",
      "  [4] eval\n",
      "    @ ./boot.jl:368 [inlined]\n",
      "  [5] include_string(mapexpr::typeof(REPL.softscope), mod::Module, code::String, filename::String)\n",
      "    @ Base ./loading.jl:1428\n",
      "  [6] #invokelatest#2\n",
      "    @ ./essentials.jl:729 [inlined]\n",
      "  [7] invokelatest\n",
      "    @ ./essentials.jl:726 [inlined]\n",
      "  [8] (::VSCodeServer.var\"#198#199\"{VSCodeServer.NotebookRunCellArguments, String})()\n",
      "    @ VSCodeServer ~/.vscode/extensions/julialang.language-julia-1.38.2/scripts/packages/VSCodeServer/src/serve_notebook.jl:19\n",
      "  [9] withpath(f::VSCodeServer.var\"#198#199\"{VSCodeServer.NotebookRunCellArguments, String}, path::String)\n",
      "    @ VSCodeServer ~/.vscode/extensions/julialang.language-julia-1.38.2/scripts/packages/VSCodeServer/src/repl.jl:249\n",
      " [10] notebook_runcell_request(conn::VSCodeServer.JSONRPC.JSONRPCEndpoint{Base.PipeEndpoint, Base.PipeEndpoint}, params::VSCodeServer.NotebookRunCellArguments)\n",
      "    @ VSCodeServer ~/.vscode/extensions/julialang.language-julia-1.38.2/scripts/packages/VSCodeServer/src/serve_notebook.jl:13\n",
      " [11] dispatch_msg(x::VSCodeServer.JSONRPC.JSONRPCEndpoint{Base.PipeEndpoint, Base.PipeEndpoint}, dispatcher::VSCodeServer.JSONRPC.MsgDispatcher, msg::Dict{String, Any})\n",
      "    @ VSCodeServer.JSONRPC ~/.vscode/extensions/julialang.language-julia-1.38.2/scripts/packages/JSONRPC/src/typed.jl:67\n",
      " [12] serve_notebook(pipename::String, outputchannel_logger::Base.CoreLogging.SimpleLogger; crashreporting_pipename::String)\n",
      "    @ VSCodeServer ~/.vscode/extensions/julialang.language-julia-1.38.2/scripts/packages/VSCodeServer/src/serve_notebook.jl:139\n",
      " [13] top-level scope\n",
      "    @ ~/.vscode/extensions/julialang.language-julia-1.38.2/scripts/notebook/notebook.jl:32"
     ]
    }
   ],
   "source": [
    "import matplotlib.pyplot as plt\n",
    "import mpl_toolkits.mplot3d\n",
    "import numpy as np\n",
    "import scipy.sparse as scps\n",
    "import scipy.sparse.linalg as ssl\n",
    "import math\n",
    "from mpl_toolkits.mplot3d import Axes3D"
   ]
  },
  {
   "cell_type": "code",
   "execution_count": 2,
   "metadata": {},
   "outputs": [
    {
     "ename": "ErrorException",
     "evalue": "syntax: extra token \"maillage\" after end of expression",
     "output_type": "error",
     "traceback": [
      "syntax: extra token \"maillage\" after end of expression\n",
      "\n",
      "Stacktrace:\n",
      " [1] top-level scope\n",
      "   @ ~/Documents/info/Edp/TP-EDP.ipynb:1"
     ]
    }
   ],
   "source": [
    "def maillage(n):\n",
    "#\n",
    "# Une discretisation possible d'une EDP elliptique sur le domaine ]0,1[ x ]0,1[\n",
    "# Le carre [0,1]x[0,1] est maille uniquement avec des triangles; \n",
    "# Les conditions limites sont de type Dirichlet uniquement   => neumann  =[];\n",
    "#\n",
    "# Entrees :\n",
    "# n : nombre de points par cote du care => Npts points de discretisation au\n",
    "# total\n",
    "#\n",
    "# Sorties :\n",
    "# coordinates : matrice a deux colonnes. Chaque ligne contient les \n",
    "# coordonnes 2D d'un des points de la discretisation. Ces sommets seront \n",
    "# identifies a l'indice de la ligne correspondante dans la matrice\n",
    "# coordinates.\n",
    "# elements3 : matrice a trois colonnes. Chaque ligne contient les indices \n",
    "# des sommets d'un element triangle, dans le sens antihoraire. \n",
    "# dirichlet : vecteur colonne des indices des sommets de la frontiere de\n",
    "# Dirichlet.\n",
    "# neumann : matrice a deux colonnes. Chaque ligne contient les indices \n",
    "# des deux sommets d'une arete de la frontiere de Neumann.\n",
    "# (neumann est vide sur cet exemple)\n",
    "#\n",
    "##################################################################################\n",
    "    h=1/(n-1)\n",
    "    npoin       = n*n ; \n",
    "    nelem       = 2*(n-1)*(n-1) ;\n",
    "    coordinates = np.zeros((npoin,2)); \n",
    "    elements3   = (np.zeros((nelem,3))).astype(int) ;\n",
    "    neumann     = [];\n",
    "    dirichlet=(np.zeros((4*n-4,1))).astype(int)\n",
    "    # Coordonnees et connectivites :\n",
    "    e = -1 ; \n",
    "    p = -1 ;\n",
    "    x=np.zeros((n+1,1))\n",
    "    x[n,0]=1.\n",
    "    for l in range (n+1):\n",
    "        x[l,0]=l*h\n",
    "    for j in range (n):\n",
    "            for i in range(n):\n",
    "                p = p + 1  \n",
    "                coordinates[p,0] = x[i,0]  \n",
    "                coordinates[p,1] = x[j,0] \n",
    "                if ((i != n-1) & (j != n-1)):\n",
    "                    p1 = p\n",
    "                    p2 = p1 + 1 \n",
    "                    p3 = p1 + n \n",
    "                    p4 = p2 + n \n",
    "                    e = e + 1 \n",
    "                    elements3[e,0] = p1 \n",
    "                    elements3[e,1] = p2 \n",
    "                    elements3[e,2] = p3 \n",
    "                    e = e + 1\n",
    "                    elements3[e,0] = p4 \n",
    "                    elements3[e,1] = p3 \n",
    "                    elements3[e,2] = p2 \n",
    "    #Liste des sommets de la frontiere de Dirichlet:\n",
    "    p=-1\n",
    "    for j in range(n):\n",
    "        p=p+1\n",
    "        dirichlet[p,0] = j  \n",
    "    for j in range(n*2-1,n*(n-1),n):\n",
    "        p=p+1\n",
    "        dirichlet[p,0] = j \n",
    "    for j in range(n*n-1,n*n-n-1,-1):\n",
    "        p=p+1\n",
    "        dirichlet[p,0] = j \n",
    "    for j in range(n*n-2*n,n-1,-n):\n",
    "        p=p+1\n",
    "        dirichlet[p,0] = j \n",
    "\n",
    "    return coordinates, elements3,dirichlet, neumann"
   ]
  },
  {
   "cell_type": "code",
   "execution_count": 3,
   "metadata": {},
   "outputs": [
    {
     "ename": "ErrorException",
     "evalue": "syntax: extra token \"show\" after end of expression",
     "output_type": "error",
     "traceback": [
      "syntax: extra token \"show\" after end of expression\n",
      "\n",
      "Stacktrace:\n",
      " [1] top-level scope\n",
      "   @ ~/Documents/info/Edp/TP-EDP.ipynb:1"
     ]
    }
   ],
   "source": [
    "def show(coordinates,u):\n",
    "#\n",
    "# Fonction d'affichage de la solution u sur le maillage defini par\n",
    "# elements3, coordinates.\n",
    "#\n",
    "# Entrees:\n",
    "# elements3 : matrice a trois colonnes contenant les elements triangles\n",
    "# de la discretisation, identifies par les indices de leurs trois\n",
    "# sommets.\n",
    "# coordinates : matrice a deux colonnes contenant les coordonnes 2D des\n",
    "# points de la discretisation.\n",
    "# u : vecteur colonne de longueur egale au nombre de lignes de\n",
    "# coordinates contenant les valeurs de la solution a afficher aux\n",
    "# points de la discretisation.\n",
    "#\n",
    "# Sorties : Aucune, mais la fonction doit s'afficher dans une figure.\n",
    "##########################################################################\n",
    "    ax= plt.figure().add_subplot(projection='3d')\n",
    "    ax.plot_trisurf(coordinates[:,0],coordinates[:,1],u,linewidth=0.2,antialiased=True)\n",
    "    plt.show()"
   ]
  },
  {
   "cell_type": "markdown",
   "metadata": {},
   "source": [
    "**Partie I : maillage triangulaire et conditions de Dirichlet**"
   ]
  },
  {
   "cell_type": "code",
   "execution_count": 4,
   "metadata": {},
   "outputs": [
    {
     "ename": "ErrorException",
     "evalue": "syntax: extra token \"compute_MTA\" after end of expression",
     "output_type": "error",
     "traceback": [
      "syntax: extra token \"compute_MTA\" after end of expression\n",
      "\n",
      "Stacktrace:\n",
      " [1] top-level scope\n",
      "   @ ~/Documents/info/Edp/TP-EDP.ipynb:3"
     ]
    }
   ],
   "source": [
    "\n",
    "'''\n",
    "def compute_MTA():\n",
    "    # Construction de la matrice de raideur élémentaire MTA relative à un élément triangle\n",
    "    \n",
    "    # Coordonnées des sommets de l'élément triangle dans le plan (x,y)\n",
    "    x = np.array([0, 1, 0])\n",
    "    y = np.array([0, 0, 1])\n",
    "    \n",
    "    # Calcul des gradients des fonctions de base de l'élément triangle\n",
    "    J = np.array([[1, 1, 1], [x[0], x[1], x[2]], [y[0], y[1], y[2]]])\n",
    "    detJ = np.linalg.det(J)\n",
    "    invJ = np.linalg.inv(J)\n",
    "    G = np.matmul(invJ, np.array([[0, 1, 0], [0, 0, 1], [1, 1, 1]]))\n",
    "    \n",
    "    # Calcul de la matrice de raideur élémentaire MTA\n",
    "    MTA = np.matmul(np.transpose(G), np.matmul(np.array([[1, -1, 0], [-1, 1, 0], [0, 0, 0]]), G)) * detJ / 2\n",
    "    \n",
    "    return MTA '''\n",
    "\n",
    "def assemble_A(coordinates, elements3):\n",
    "    # Assemblage de la matrice A dans le cas d'un maillage constitué uniquement d'éléments triangles\n",
    "    \n",
    "    npoin = len(coordinates)\n",
    "    nelem = len(elements3)\n",
    "    A = np.zeros((npoin, npoin))\n",
    "    \n",
    "    for t in elements3:\n",
    "        grads = np.empty((3,), dtype=object)\n",
    "        p1,p2,p3 = coordinates[t[0]],coordinates[t[1]],coordinates[t[2]]\n",
    "        alpha = (p2[0]-p1[0])*(p3[1]-p1[1]) - (p3[0] - p1[0])*(p2[1]- p1[1])\n",
    "        grad[0] = np.array([(p2[1]-p3[1]),(p3[1]-p1[1]),(p1[1]-p2[1])])/(2*alpha)\n",
    "        grad[1] = np.array([(p3[0]-p2[0]),(p1[0]-p3[0]),(p2[0]-p1[0])])/(2*alpha)\n",
    "        for i in range(3):\n",
    "            for j in range(3):\n",
    "                A[t[i],t[j]] += np.dot(grad[i],grad[j])\n",
    "    return A\n",
    "\n",
    "def assemblage_seconde_membre(coordinates, elements3, dirichlet,ud,f):\n",
    "    npoin = np.size(coordinates[:,0])\n",
    "    ntriang = np.size(elements3[:,0])\n",
    "    A = assemble_A(coordinates,elements3)\n",
    "    b = np.zeros(npoin)\n",
    "    for t in elements3:\n",
    "        #trouver le barycentre\n",
    "        p1,p2,p3 = coordinates[t[0]],coordinates[t[1]],coordinates[t[2]]\n",
    "        pg = (1/3)*(p1+p2+p3)\n",
    "        alpha = (p2[0]-p1[0])*(p3[1]-p1[1]) - (p3[0] - p1[0])*(p2[1]- p1[1])\n",
    "        #calcule de alpha/6 * f(xg,yg)\n",
    "        abc = np.linalg.solve(np.array([[p1[0],p1[1],1.],[p2[0],p2[1],1.],[p3[0],p3[1],1.]]),np.array([f[t[0]],f[t[1]],f[t[2]]]))\n",
    "        fxg = abc[0]*pg[0] + abc[1]*pg[1] + abc[2]\n",
    "        b[t[0]] += (alpha/6)*fxg\n",
    "        b[t[1]] += (alpha/6)*fxg\n",
    "        b[t[2]] += (alpha/6)*fxg\n",
    "        #####################################################\n",
    "        for p in dirichlet:\n",
    "            xyp = coordinates[p][0]\n",
    "            for i in range(3):     \n",
    "                if (t[i] in dirichlet) : \n",
    "                    if ( (t[i] == 0 ) or (t[i] == npoin - 1) ):\n",
    "                        b[t[i]] -= ud[p[0]]*A[t[i],p]\n",
    "                    elif ( (t[i] == int(np.sqrt(npoin)) -1 ) or (t[i] == npoin*npoin - npoin ) ):\n",
    "                        b[t[i]] -= (1/2)*ud[p[0]]*A[t[i],p]\n",
    "                    else :\n",
    "                        b[t[i]] -= (1/3)*ud[p[0]]*A[t[i],p]\n",
    "                else :\n",
    "                        b[t[i]] -= (1/6)*ud[p[0]]*A[t[i],p]\n",
    "            \n",
    "    return b\n",
    "        #############################################################\"\"\n",
    "\n",
    "            \n",
    "            \n",
    "\n",
    "    "
   ]
  },
  {
   "cell_type": "code",
   "execution_count": 5,
   "metadata": {},
   "outputs": [
    {
     "ename": "UndefVarError",
     "evalue": "UndefVarError: maillage not defined",
     "output_type": "error",
     "traceback": [
      "UndefVarError: maillage not defined\n",
      "\n",
      "Stacktrace:\n",
      " [1] top-level scope\n",
      "   @ ~/Documents/info/Edp/TP-EDP.ipynb:1"
     ]
    }
   ],
   "source": [
    "coordinates, elements3,dirichlet, neumann = maillage(10)   \n",
    "f = np.cos(np.linspace(0.,np.pi,100))\n",
    "ud = np.ones((1,100))\n",
    "for t in elements3:\n",
    "        #trouver le barycentre\n",
    "        p1,p2,p3 = coordinates[t[0]],coordinates[t[1]],coordinates[t[2]]\n",
    "        pg = (1/3)*(p1+p2+p3)\n",
    "        alpha = (p2[0]-p1[0])*(p3[1]-p1[1]) - (p3[0] - p1[0])*(p2[1]- p1[1])\n",
    "        #calcule de alpha/6 * f(xg,yg)\n",
    "        abc = np.linalg.solve(np.array([[p1[0],p1[1],1.],[p2[0],p2[1],1.],[p3[0],p3[1],1.]]),np.array([f[t[0]],f[t[1]],f[t[2]]]))\n",
    "        print(abc)"
   ]
  },
  {
   "cell_type": "code",
   "execution_count": 6,
   "metadata": {},
   "outputs": [
    {
     "ename": "UndefVarError",
     "evalue": "UndefVarError: maillage not defined",
     "output_type": "error",
     "traceback": [
      "UndefVarError: maillage not defined\n",
      "\n",
      "Stacktrace:\n",
      " [1] top-level scope\n",
      "   @ ~/Documents/info/Edp/TP-EDP.ipynb:7"
     ]
    }
   ],
   "source": [
    "\n",
    "\n",
    "# Définition des paramètres du maillage\n",
    "n = 10\n",
    "'''\n",
    "# Génération du maillage\n",
    "coordinates, elements3, dirichlet, neumann = maillage(n)\n",
    "\n",
    "# Assemblage du second membre\n",
    "f = assemblage_seconde_membre(coordinates, elements3, dirichlet)\n",
    "\n",
    "# Affichage du second membre\n",
    "fig = plt.figure()\n",
    "ax = fig.add_subplot(111, projection='3d')\n",
    "ax.scatter(coordinates[:, 0], coordinates[:, 1], f[:, 0])\n",
    "ax.set_xlabel('x')\n",
    "ax.set_ylabel('y')\n",
    "ax.set_zlabel('f')\n",
    "plt.show()\n",
    "'''\n"
   ]
  },
  {
   "cell_type": "code",
   "execution_count": 7,
   "metadata": {},
   "outputs": [],
   "source": []
  },
  {
   "cell_type": "markdown",
   "metadata": {},
   "source": [
    "**Partie II : maillage mixte et ajoût des conditions de Neumann**"
   ]
  },
  {
   "cell_type": "code",
   "execution_count": 8,
   "metadata": {},
   "outputs": [
    {
     "ename": "UndefVarError",
     "evalue": "UndefVarError: np not defined",
     "output_type": "error",
     "traceback": [
      "UndefVarError: np not defined\n",
      "\n",
      "Stacktrace:\n",
      " [1] top-level scope\n",
      "   @ ~/Documents/info/Edp/TP-EDP.ipynb:2"
     ]
    }
   ],
   "source": [
    "############################# Maillage mixte ################\n",
    "e3=np.array([[1,2,12],[2,3,12],[3,4,14],[4,5,14],[2,15,3],[3,15,4]]).astype(int)\n",
    "e4=np.array([[0,1,12,11],[11,12,13,10],[12,3,14,13],[10,13,8,9],[13,14,7,8],[14,5,6,7]]).astype(int)\n",
    "dds=np.array([2,15,4,6,7,8,9,10,11,0]).astype(int)\n",
    "nns=np.array([[4,5],[5,6],[0,1],[1,2]]).astype(int)\n",
    "ccs=np.array([[0.,0.],[0.33333333333333,0],[0.53333333333333,0.],\n",
    "                      [0.66666666666667,0.33333333333333],[1.,0.47],[1,0.66666666666667],\n",
    "                     [1.,1.],[0.66666666666667,1.],[0.33333333333333,1.], [0.,1.],\n",
    "                     [0.,0.66666666666667],[0.,0.33333333333333],[0.33333333333333,0.33333333333333],\n",
    "                     [0.33333333333333,0.66666666666667],[0.66666666666667,0.66666666666667],[1.,0.]])"
   ]
  },
  {
   "cell_type": "code",
   "execution_count": 9,
   "metadata": {},
   "outputs": [
    {
     "ename": "UndefVarError",
     "evalue": "UndefVarError: maillage not defined",
     "output_type": "error",
     "traceback": [
      "UndefVarError: maillage not defined\n",
      "\n",
      "Stacktrace:\n",
      " [1] top-level scope\n",
      "   @ ~/Documents/info/Edp/TP-EDP.ipynb:1"
     ]
    }
   ],
   "source": [
    "coordinates, elements3,dirichlet, neumann = maillage(5)\n",
    "n = 25\n",
    "A = assemble_A(coordinates,elements3)\n",
    "b = assemblage_seconde_membre(coordinates,elements3,dirichlet,np.ones((n)),np.cos(np.linspace(0.,np.pi,n)))\n",
    "print(b)\n"
   ]
  },
  {
   "cell_type": "markdown",
   "metadata": {},
   "source": [
    "**Compléments  :  un nouveau terme dans l'EDP**"
   ]
  },
  {
   "cell_type": "code",
   "execution_count": 10,
   "metadata": {},
   "outputs": [],
   "source": []
  },
  {
   "cell_type": "code",
   "execution_count": 11,
   "metadata": {},
   "outputs": [],
   "source": []
  }
 ],
 "metadata": {
  "kernelspec": {
   "display_name": "Python 3",
   "language": "python",
   "name": "python3"
  },
  "language_info": {
   "file_extension": ".jl",
   "mimetype": "application/julia",
   "name": "python",
   "version": "3.10.6"
  }
 },
 "nbformat": 4,
 "nbformat_minor": 4
}
